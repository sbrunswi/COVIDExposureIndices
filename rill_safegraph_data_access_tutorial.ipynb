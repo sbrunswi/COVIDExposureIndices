{
  "nbformat": 4,
  "nbformat_minor": 0,
  "metadata": {
    "kernelspec": {
      "display_name": "Python 3",
      "language": "python",
      "name": "python3"
    },
    "language_info": {
      "codemirror_mode": {
        "name": "ipython",
        "version": 3
      },
      "file_extension": ".py",
      "mimetype": "text/x-python",
      "name": "python",
      "nbconvert_exporter": "python",
      "pygments_lexer": "ipython3",
      "version": "3.7.4"
    },
    "colab": {
      "name": "rill_safegraph_data_access_tutorial.ipynb",
      "provenance": [],
      "collapsed_sections": [],
      "include_colab_link": true
    },
    "widgets": {
      "application/vnd.jupyter.widget-state+json": {
        "428bb2a300d54ad49a54d7e214f6f2ed": {
          "model_module": "@jupyter-widgets/controls",
          "model_name": "TextModel",
          "state": {
            "_view_name": "TextView",
            "style": "IPY_MODEL_1f97a04a48c041e582bb42158611881a",
            "_dom_classes": [],
            "description": "Enter token",
            "_model_name": "TextModel",
            "placeholder": "​",
            "_view_module": "@jupyter-widgets/controls",
            "_model_module_version": "1.5.0",
            "value": "",
            "_view_count": null,
            "disabled": false,
            "_view_module_version": "1.5.0",
            "continuous_update": true,
            "description_tooltip": null,
            "_model_module": "@jupyter-widgets/controls",
            "layout": "IPY_MODEL_135f95d7819643309df9a2ed86886ea1"
          }
        },
        "1f97a04a48c041e582bb42158611881a": {
          "model_module": "@jupyter-widgets/controls",
          "model_name": "DescriptionStyleModel",
          "state": {
            "_view_name": "StyleView",
            "_model_name": "DescriptionStyleModel",
            "description_width": "",
            "_view_module": "@jupyter-widgets/base",
            "_model_module_version": "1.5.0",
            "_view_count": null,
            "_view_module_version": "1.2.0",
            "_model_module": "@jupyter-widgets/controls"
          }
        },
        "135f95d7819643309df9a2ed86886ea1": {
          "model_module": "@jupyter-widgets/base",
          "model_name": "LayoutModel",
          "state": {
            "_view_name": "LayoutView",
            "grid_template_rows": null,
            "right": null,
            "justify_content": null,
            "_view_module": "@jupyter-widgets/base",
            "overflow": null,
            "_model_module_version": "1.2.0",
            "_view_count": null,
            "flex_flow": null,
            "width": null,
            "min_width": null,
            "border": null,
            "align_items": null,
            "bottom": null,
            "_model_module": "@jupyter-widgets/base",
            "top": null,
            "grid_column": null,
            "overflow_y": null,
            "overflow_x": null,
            "grid_auto_flow": null,
            "grid_area": null,
            "grid_template_columns": null,
            "flex": null,
            "_model_name": "LayoutModel",
            "justify_items": null,
            "grid_row": null,
            "max_height": null,
            "align_content": null,
            "visibility": null,
            "align_self": null,
            "height": null,
            "min_height": null,
            "padding": null,
            "grid_auto_rows": null,
            "grid_gap": null,
            "max_width": null,
            "order": null,
            "_view_module_version": "1.2.0",
            "grid_template_areas": null,
            "object_position": null,
            "object_fit": null,
            "grid_auto_columns": null,
            "margin": null,
            "display": null,
            "left": null
          }
        }
      }
    }
  },
  "cells": [
    {
      "cell_type": "markdown",
      "metadata": {
        "id": "view-in-github",
        "colab_type": "text"
      },
      "source": [
        "<a href=\"https://colab.research.google.com/github/sbrunswi/COVIDExposureIndices/blob/master/rill_safegraph_data_access_tutorial.ipynb\" target=\"_parent\"><img src=\"https://colab.research.google.com/assets/colab-badge.svg\" alt=\"Open In Colab\"/></a>"
      ]
    },
    {
      "cell_type": "markdown",
      "metadata": {
        "id": "PU31Zo0G8oYT",
        "colab_type": "text"
      },
      "source": [
        "A Fast, Easy Way to Query SafeGraph Data in a Python Notebook\n",
        "---\n",
        "\n",
        "Welcome to Rill Data's tutorial Jupyter notebook for the [SafeGraph COVID-19 Consortium](https://www.safegraph.com/covid-19-data-consortium).  Our motivation is to show a simple, secure, alternative data access path to S3 downloads, enabling SQL-defined subsets of data to be pulled directly into a notebook.\n",
        "\n",
        "Rill hosts a cloud database table that this code queries, which is a unified data set created by our talented colleages at [Unfolded](https://unfolded.ai), containing SafeGraph's population movement data, case data from The New York Times Covid Github repository, and spending data from Facteus.  It contains a row for every one of 220,000 census block groups in the US, for every day since January 1, 2020, resulting in 36 millions of rows as of this writing. [This schema describes the meaning of each of the 188 columns](https://docs.google.com/spreadsheets/d/1gxBKcSjIjwBsJswA3JvjZtqBLFBssus8wO-xpUeLWYw/edit#gid=0).  \n",
        "\n",
        "Queries against this table should return almost instantly, but if you experience performance issues, please contact us [#rill-support](https://safegraphcovid19.slack.com/archives/C0139RQSTRP) and direct database schema questions to [#unfolded-studio-support](https://safegraphcovid19.slack.com/archives/C012T1Z8FQA)."
      ]
    },
    {
      "cell_type": "code",
      "metadata": {
        "id": "qJGujiK5-JWV",
        "colab_type": "code",
        "colab": {}
      },
      "source": [
        "import json\n",
        "import requests as rq\n",
        "import ipywidgets as widgets\n",
        "from IPython.display import display\n",
        "import pandas as pd\n"
      ],
      "execution_count": null,
      "outputs": []
    },
    {
      "cell_type": "markdown",
      "metadata": {
        "id": "JO0M4an3NJHr",
        "colab_type": "text"
      },
      "source": [
        "### Get your access token and validate it\n",
        "Visit https://covid.rilldata.com/accesstoken to copy your personal access token string (use the same email you use for the Consortium Slack channel), and paste it in below (then hit return ⏎) to validate this notebook's access to the database."
      ]
    },
    {
      "cell_type": "code",
      "metadata": {
        "id": "S5FqHyjLm6_Q",
        "colab_type": "code",
        "colab": {
          "base_uri": "https://localhost:8080/",
          "height": 49,
          "referenced_widgets": [
            "428bb2a300d54ad49a54d7e214f6f2ed",
            "1f97a04a48c041e582bb42158611881a",
            "135f95d7819643309df9a2ed86886ea1"
          ]
        },
        "outputId": "42dde5d1-4b96-4206-9406-d4b69dd566b1"
      },
      "source": [
        "text = widgets.Text(description=\"Enter token\", width=400)\n",
        "token = ''\n",
        "display(text)\n",
        "def handle_token(sender): \n",
        "  global token\n",
        "  token = text.value\n",
        "  print('Token updated Successfully!')\n",
        "text.on_submit(handle_token)"
      ],
      "execution_count": null,
      "outputs": [
        {
          "output_type": "display_data",
          "data": {
            "application/vnd.jupyter.widget-view+json": {
              "model_id": "428bb2a300d54ad49a54d7e214f6f2ed",
              "version_minor": 0,
              "version_major": 2
            },
            "text/plain": [
              "Text(value='', description='Enter token')"
            ]
          },
          "metadata": {
            "tags": []
          }
        }
      ]
    },
    {
      "cell_type": "markdown",
      "metadata": {
        "id": "eHCeTYdFYYKz",
        "colab_type": "text"
      },
      "source": [
        "`Token updated Successfully!` should appear as a message above, meaning this notebook now has validated access to the Rill cloud database.  "
      ]
    },
    {
      "cell_type": "markdown",
      "metadata": {
        "id": "vF-YQK9az5bL",
        "colab_type": "text"
      },
      "source": [
        "### Query Rill's cloud database\n",
        "\n",
        "Next, let's set up the database URL and authentication headers."
      ]
    },
    {
      "cell_type": "code",
      "metadata": {
        "id": "CMI-rtGD-JWo",
        "colab_type": "code",
        "colab": {}
      },
      "source": [
        "database_url = 'https://druid.ws.demo.rilldata.io/druid/v2/sql'\n",
        "headers = {\n",
        "                'Authorization': 'Bearer {}'.format(token)\n",
        "          }"
      ],
      "execution_count": null,
      "outputs": []
    },
    {
      "cell_type": "markdown",
      "metadata": {
        "id": "XqjA8rKvfkZ_",
        "colab_type": "text"
      },
      "source": [
        "Next we'll issue a set of example queries, beginning with a simple query to pull just 5 rows of data into a simple pandas data frame."
      ]
    },
    {
      "cell_type": "code",
      "metadata": {
        "id": "n2JbM67Ue93e",
        "colab_type": "code",
        "colab": {
          "base_uri": "https://localhost:8080/",
          "height": 376
        },
        "outputId": "a6a1a53c-f145-4e31-cc05-3f477482dffb"
      },
      "source": [
        "sql = \"\"\"\n",
        "SELECT FLOOR(\"__time\" TO DAY) AS \"__timestamp\",\n",
        "       AVG(1.0*completely_home_device_count/device_count) AS \"AVG(1.0*completely_home_device_count/dev...\"\n",
        "FROM \"druid\".\"covid_safegraph_facteus_nytimes\"\n",
        "WHERE \"__time\" >= '2020-04-19 00:00:00.000000'\n",
        "  AND \"__time\" < '2020-06-18 00:00:00.000000'\n",
        "  AND \"device_count\" != 0\n",
        "GROUP BY FLOOR(\"__time\" TO DAY)\n",
        "ORDER BY \"AVG(1.0*completely_home_device_count/dev...\" DESC\n",
        "LIMIT 10\n",
        "\"\"\"\n",
        "res = rq.post(database_url, headers=headers, json= {\"query\": sql })\n",
        "print(\"Status Code:\", res.status_code)  # Should be 200, otherwise, you may have a permissions issue\n",
        "df = pd.read_json(json.dumps(res.json()))\n",
        "df"
      ],
      "execution_count": null,
      "outputs": [
        {
          "output_type": "stream",
          "text": [
            "Status Code: 200\n"
          ],
          "name": "stdout"
        },
        {
          "output_type": "execute_result",
          "data": {
            "text/html": [
              "<div>\n",
              "<style scoped>\n",
              "    .dataframe tbody tr th:only-of-type {\n",
              "        vertical-align: middle;\n",
              "    }\n",
              "\n",
              "    .dataframe tbody tr th {\n",
              "        vertical-align: top;\n",
              "    }\n",
              "\n",
              "    .dataframe thead th {\n",
              "        text-align: right;\n",
              "    }\n",
              "</style>\n",
              "<table border=\"1\" class=\"dataframe\">\n",
              "  <thead>\n",
              "    <tr style=\"text-align: right;\">\n",
              "      <th></th>\n",
              "      <th>__timestamp</th>\n",
              "      <th>AVG(1.0*completely_home_device_count/dev...</th>\n",
              "    </tr>\n",
              "  </thead>\n",
              "  <tbody>\n",
              "    <tr>\n",
              "      <th>0</th>\n",
              "      <td>2020-04-19T00:00:00.000Z</td>\n",
              "      <td>0.442363</td>\n",
              "    </tr>\n",
              "    <tr>\n",
              "      <th>1</th>\n",
              "      <td>2020-04-26T00:00:00.000Z</td>\n",
              "      <td>0.421956</td>\n",
              "    </tr>\n",
              "    <tr>\n",
              "      <th>2</th>\n",
              "      <td>2020-05-03T00:00:00.000Z</td>\n",
              "      <td>0.419265</td>\n",
              "    </tr>\n",
              "    <tr>\n",
              "      <th>3</th>\n",
              "      <td>2020-04-20T00:00:00.000Z</td>\n",
              "      <td>0.406592</td>\n",
              "    </tr>\n",
              "    <tr>\n",
              "      <th>4</th>\n",
              "      <td>2020-05-17T00:00:00.000Z</td>\n",
              "      <td>0.398933</td>\n",
              "    </tr>\n",
              "    <tr>\n",
              "      <th>5</th>\n",
              "      <td>2020-04-21T00:00:00.000Z</td>\n",
              "      <td>0.397235</td>\n",
              "    </tr>\n",
              "    <tr>\n",
              "      <th>6</th>\n",
              "      <td>2020-05-04T00:00:00.000Z</td>\n",
              "      <td>0.392129</td>\n",
              "    </tr>\n",
              "    <tr>\n",
              "      <th>7</th>\n",
              "      <td>2020-05-11T00:00:00.000Z</td>\n",
              "      <td>0.388055</td>\n",
              "    </tr>\n",
              "    <tr>\n",
              "      <th>8</th>\n",
              "      <td>2020-05-05T00:00:00.000Z</td>\n",
              "      <td>0.387569</td>\n",
              "    </tr>\n",
              "    <tr>\n",
              "      <th>9</th>\n",
              "      <td>2020-04-23T00:00:00.000Z</td>\n",
              "      <td>0.386580</td>\n",
              "    </tr>\n",
              "  </tbody>\n",
              "</table>\n",
              "</div>"
            ],
            "text/plain": [
              "                __timestamp  AVG(1.0*completely_home_device_count/dev...\n",
              "0  2020-04-19T00:00:00.000Z                                     0.442363\n",
              "1  2020-04-26T00:00:00.000Z                                     0.421956\n",
              "2  2020-05-03T00:00:00.000Z                                     0.419265\n",
              "3  2020-04-20T00:00:00.000Z                                     0.406592\n",
              "4  2020-05-17T00:00:00.000Z                                     0.398933\n",
              "5  2020-04-21T00:00:00.000Z                                     0.397235\n",
              "6  2020-05-04T00:00:00.000Z                                     0.392129\n",
              "7  2020-05-11T00:00:00.000Z                                     0.388055\n",
              "8  2020-05-05T00:00:00.000Z                                     0.387569\n",
              "9  2020-04-23T00:00:00.000Z                                     0.386580"
            ]
          },
          "metadata": {
            "tags": []
          },
          "execution_count": 7
        }
      ]
    },
    {
      "cell_type": "code",
      "metadata": {
        "id": "HI0Lil2aQ8mr",
        "colab_type": "code",
        "colab": {}
      },
      "source": [
        ""
      ],
      "execution_count": null,
      "outputs": []
    }
  ]
}